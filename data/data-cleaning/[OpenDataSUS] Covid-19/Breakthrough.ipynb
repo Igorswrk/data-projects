{
 "cells": [
  {
   "cell_type": "code",
   "execution_count": 1,
   "outputs": [],
   "source": [
    "import pandas as pd\n",
    "import numpy as np"
   ],
   "metadata": {
    "collapsed": false,
    "pycharm": {
     "name": "#%%\n"
    }
   }
  },
  {
   "cell_type": "markdown",
   "source": [
    "# Carregamento dos dados"
   ],
   "metadata": {
    "collapsed": false,
    "pycharm": {
     "name": "#%% md\n"
    }
   }
  },
  {
   "cell_type": "code",
   "execution_count": 2,
   "outputs": [
    {
     "data": {
      "text/plain": "'\\nDados utilizados da tabela INFLUD para pesquisa\\n\\nColuna     | Significado\\n\\nDT_SIN_PRI | Data dos primeiros sintomas da COVID-19.\\nSG_UF_NOT  | Estado onde está localizada a Unidade Sentinela que realizou a notificação do caso.\\nCS_SEXO    | Sexo do paciente.\\nNU_IDADE_N | Idade informada pelo paciente.\\nTP_IDADE   | Tipo de idade, se será em dias, meses, ou anos.\\nCS_GESTANT | Idade Gestacional da paciente, dividido em 3 trimestres de gestação.\\nCS_RACA    | Cor ou raça autodeclarado pelo paciente.\\nCS_ESCOL_N | Escolaridade do paciente.\\n___________________________________________________________________________\\nFEBRE      | Paciente apresentou febre?\\nTOSSE      | Paciente apresentou tosse?\\nGARGANTA   | Paciente apresentou dor de garganta?\\nDISPNEIA   | Paciente apresentou dispneia? (Falta de ar)\\nDESC_RESP  | Paciente apresentou desconforto respiratório?\\nSATURACAO  | Paciente apresentou saturação? (Saturação de O² circulando no sangue inferior a 95%)\\nDIARREIA   | Paciente apresentou diarreia?\\nVOMITO     | Paciente apresentou vômito?\\nDOR_ABD    | Paciente apresentou dor abdominal?\\nFADIGA     | Paciente apresentou fadiga?\\nPERD_OLFT  | Paciente apresentou perda do olfato?\\nPERD_PALA  | Paciente apresentou perda do paladar?\\n___________________________________________________________________________\\nFATOR_RISC | Paciente apresenta algum fator de risco?\\nPUERPERA   | Paciente é puérpera ou parturiente? (Mulher que pariu recentemente - até 45 dias do parto)\\nCARDIOPATI | Paciente possui Doença Cardiovascular Crônica?\\nHEMATOLOGI | Paciente possui Doença Hematológica Crônica?\\nSIND_DOWN  | Paciente possui Sindrome de Down?\\nHEPATICA   | Paciente possui Doença Hepática Crônica?\\nASMA       | Paciente possui Asma?\\nDIABETES   | Paciente possui Diabetes mellitus?\\nNEUROLOGIC | Paciente possui Doença Neurológica?\\nPNEUMOPATI | Paciente possui Pneumopatia Crônica?\\nIMUNODEPRE | Paciente possui Imunodepressão? (Diminuição da função do sistema imunológico)\\nRENAL      | Paciente possui Doença Renal Crônica?\\nOBESIDADE  | Paciente possui Obesidade?\\n___________________________________________________________________________\\nVACINA_COV | Paciente recebeu vacina da COVID-19?\\nDOSE_1_COV | Data da 1° Dose da vacina da COVID-19.\\nDOSE_2_COV | Data da 2° Dose da vacina da COVID-19.\\nDOSE_REF   | Data da Dose REFORÇO da vacina da COVID-19.\\nFAB_COV_1  | Fabricante da 1° Dose da vacina da COVID-19.\\nFAB_COV_2  | Fabricante da 2° Dose da vacina da COVID-19.\\nFAB_COVREF | Fabricante da Dose REFORÇO da vacina da COVID-19.\\n___________________________________________________________________________\\nHOSPITAL   | O paciente foi hospitalizado?\\nDT_INTERNA | Data em que o paciente foi hospitalizado.\\nUTI        | O paciente foi internado em UTI?\\nSUPORT_VEN | O paciente fez o uso do suporte ventilatório?\\n___________________________________________________________________________\\nAN_SARS2   | Resultado do Teste Antigênico para SARS-CoV-2.\\nPCR_SARS2  | Resultado diagnóstico do RT-PCR para SARS-CoV-2. (Método por Biologia Molecular)\\nCLASSI_FIN | Diagnóstico Final do Caso (Qual a causa da Sindrome Respiratória Aguda Grave).\\nEVOLUCAO   | Evolução do caso. ( Cura, óbito )\\nDT_EVOLUCA | Data de alta ou do óbito.\\n'"
     },
     "execution_count": 2,
     "metadata": {},
     "output_type": "execute_result"
    }
   ],
   "source": [
    "\"\"\"\n",
    "Dados utilizados da tabela INFLUD para pesquisa\n",
    "\n",
    "Coluna     | Significado\n",
    "\n",
    "DT_SIN_PRI | Data dos primeiros sintomas da COVID-19.\n",
    "SG_UF_NOT  | Estado onde está localizada a Unidade Sentinela que realizou a notificação do caso.\n",
    "CS_SEXO    | Sexo do paciente.\n",
    "NU_IDADE_N | Idade informada pelo paciente.\n",
    "TP_IDADE   | Tipo de idade, se será em dias, meses, ou anos.\n",
    "CS_GESTANT | Idade Gestacional da paciente, dividido em 3 trimestres de gestação.\n",
    "CS_RACA    | Cor ou raça autodeclarado pelo paciente.\n",
    "CS_ESCOL_N | Escolaridade do paciente.\n",
    "___________________________________________________________________________\n",
    "FEBRE      | Paciente apresentou febre?\n",
    "TOSSE      | Paciente apresentou tosse?\n",
    "GARGANTA   | Paciente apresentou dor de garganta?\n",
    "DISPNEIA   | Paciente apresentou dispneia? (Falta de ar)\n",
    "DESC_RESP  | Paciente apresentou desconforto respiratório?\n",
    "SATURACAO  | Paciente apresentou saturação? (Saturação de O² circulando no sangue inferior a 95%)\n",
    "DIARREIA   | Paciente apresentou diarreia?\n",
    "VOMITO     | Paciente apresentou vômito?\n",
    "DOR_ABD    | Paciente apresentou dor abdominal?\n",
    "FADIGA     | Paciente apresentou fadiga?\n",
    "PERD_OLFT  | Paciente apresentou perda do olfato?\n",
    "PERD_PALA  | Paciente apresentou perda do paladar?\n",
    "___________________________________________________________________________\n",
    "FATOR_RISC | Paciente apresenta algum fator de risco?\n",
    "PUERPERA   | Paciente é puérpera ou parturiente? (Mulher que pariu recentemente - até 45 dias do parto)\n",
    "CARDIOPATI | Paciente possui Doença Cardiovascular Crônica?\n",
    "HEMATOLOGI | Paciente possui Doença Hematológica Crônica?\n",
    "SIND_DOWN  | Paciente possui Sindrome de Down?\n",
    "HEPATICA   | Paciente possui Doença Hepática Crônica?\n",
    "ASMA       | Paciente possui Asma?\n",
    "DIABETES   | Paciente possui Diabetes mellitus?\n",
    "NEUROLOGIC | Paciente possui Doença Neurológica?\n",
    "PNEUMOPATI | Paciente possui Pneumopatia Crônica?\n",
    "IMUNODEPRE | Paciente possui Imunodepressão? (Diminuição da função do sistema imunológico)\n",
    "RENAL      | Paciente possui Doença Renal Crônica?\n",
    "OBESIDADE  | Paciente possui Obesidade?\n",
    "___________________________________________________________________________\n",
    "VACINA_COV | Paciente recebeu vacina da COVID-19?\n",
    "DOSE_1_COV | Data da 1° Dose da vacina da COVID-19.\n",
    "DOSE_2_COV | Data da 2° Dose da vacina da COVID-19.\n",
    "DOSE_REF   | Data da Dose REFORÇO da vacina da COVID-19.\n",
    "FAB_COV_1  | Fabricante da 1° Dose da vacina da COVID-19.\n",
    "FAB_COV_2  | Fabricante da 2° Dose da vacina da COVID-19.\n",
    "FAB_COVREF | Fabricante da Dose REFORÇO da vacina da COVID-19.\n",
    "___________________________________________________________________________\n",
    "HOSPITAL   | O paciente foi hospitalizado?\n",
    "DT_INTERNA | Data em que o paciente foi hospitalizado.\n",
    "UTI        | O paciente foi internado em UTI?\n",
    "SUPORT_VEN | O paciente fez o uso do suporte ventilatório?\n",
    "___________________________________________________________________________\n",
    "AN_SARS2   | Resultado do Teste Antigênico para SARS-CoV-2.\n",
    "PCR_SARS2  | Resultado diagnóstico do RT-PCR para SARS-CoV-2. (Método por Biologia Molecular)\n",
    "CLASSI_FIN | Diagnóstico Final do Caso (Qual a causa da Sindrome Respiratória Aguda Grave).\n",
    "EVOLUCAO   | Evolução do caso. ( Cura, óbito )\n",
    "DT_EVOLUCA | Data de alta ou do óbito.\n",
    "\"\"\""
   ],
   "metadata": {
    "collapsed": false,
    "pycharm": {
     "name": "#%%\n"
    }
   }
  },
  {
   "cell_type": "code",
   "execution_count": 3,
   "outputs": [],
   "source": [
    "# Lendo Dataset 2021\n",
    "df2021 = pd.read_csv('datasets/INFLUD21-01-08-2022.csv', sep=';', encoding=\"ISO-8859-1\", low_memory=False)"
   ],
   "metadata": {
    "collapsed": false,
    "pycharm": {
     "name": "#%%\n"
    }
   }
  },
  {
   "cell_type": "code",
   "execution_count": 4,
   "outputs": [],
   "source": [
    "# Lendo Dataset 2022\n",
    "df2022 = pd.read_csv('datasets/INFLUD22-01-08-2022.csv', sep=';', encoding=\"ISO-8859-1\", low_memory=False)"
   ],
   "metadata": {
    "collapsed": false,
    "pycharm": {
     "name": "#%%\n"
    }
   }
  },
  {
   "cell_type": "code",
   "execution_count": 5,
   "outputs": [
    {
     "data": {
      "text/plain": "(1730219, 166)"
     },
     "execution_count": 5,
     "metadata": {},
     "output_type": "execute_result"
    }
   ],
   "source": [
    "df2021.shape"
   ],
   "metadata": {
    "collapsed": false,
    "pycharm": {
     "name": "#%%\n"
    }
   }
  },
  {
   "cell_type": "code",
   "execution_count": 6,
   "outputs": [
    {
     "data": {
      "text/plain": "(391787, 166)"
     },
     "execution_count": 6,
     "metadata": {},
     "output_type": "execute_result"
    }
   ],
   "source": [
    "df2022.shape"
   ],
   "metadata": {
    "collapsed": false,
    "pycharm": {
     "name": "#%%\n"
    }
   }
  },
  {
   "cell_type": "code",
   "execution_count": 7,
   "outputs": [],
   "source": [
    "# Selecionando colunas desejadas para pesquisa\n",
    "df2021 = df2021[['DT_SIN_PRI', 'SG_UF_NOT', 'CS_SEXO', 'NU_IDADE_N', 'TP_IDADE', 'CS_GESTANT', 'CS_RACA', 'CS_ESCOL_N',\n",
    "                 'FEBRE', 'TOSSE', 'GARGANTA', 'DISPNEIA', 'DESC_RESP', 'SATURACAO', 'DIARREIA', 'VOMITO', 'DOR_ABD', 'FADIGA', 'PERD_OLFT', 'PERD_PALA',\n",
    "                 'FATOR_RISC', 'PUERPERA', 'CARDIOPATI', 'HEMATOLOGI', 'SIND_DOWN', 'HEPATICA', 'ASMA', 'DIABETES', 'NEUROLOGIC', 'RENAL', 'OBESIDADE',\n",
    "                 'VACINA_COV', 'DOSE_1_COV', 'DOSE_2_COV', 'DOSE_REF', 'FAB_COV_1', 'FAB_COV_2', 'FAB_COVREF',\n",
    "                 'HOSPITAL', 'DT_INTERNA', 'UTI', 'SUPORT_VEN',\n",
    "                 'AN_SARS2', 'PCR_SARS2', 'CLASSI_FIN', 'EVOLUCAO', 'DT_EVOLUCA']]\n",
    "\n",
    "df2022 = df2022[['DT_SIN_PRI', 'SG_UF_NOT', 'CS_SEXO', 'NU_IDADE_N', 'TP_IDADE', 'CS_GESTANT', 'CS_RACA', 'CS_ESCOL_N',\n",
    "                 'FEBRE', 'TOSSE', 'GARGANTA', 'DISPNEIA', 'DESC_RESP', 'SATURACAO', 'DIARREIA', 'VOMITO', 'DOR_ABD', 'FADIGA', 'PERD_OLFT', 'PERD_PALA',\n",
    "                 'FATOR_RISC', 'PUERPERA', 'CARDIOPATI', 'HEMATOLOGI', 'SIND_DOWN', 'HEPATICA', 'ASMA', 'DIABETES', 'NEUROLOGIC', 'RENAL', 'OBESIDADE',\n",
    "                 'VACINA_COV', 'DOSE_1_COV', 'DOSE_2_COV', 'DOSE_REF', 'FAB_COV_1', 'FAB_COV_2', 'FAB_COVREF',\n",
    "                 'HOSPITAL', 'DT_INTERNA', 'UTI', 'SUPORT_VEN',\n",
    "                 'AN_SARS2', 'PCR_SARS2', 'CLASSI_FIN', 'EVOLUCAO', 'DT_EVOLUCA']]"
   ],
   "metadata": {
    "collapsed": false,
    "pycharm": {
     "name": "#%%\n"
    }
   }
  },
  {
   "cell_type": "markdown",
   "source": [
    "### Unindo datasets"
   ],
   "metadata": {
    "collapsed": false,
    "pycharm": {
     "name": "#%% md\n"
    }
   }
  },
  {
   "cell_type": "code",
   "execution_count": 8,
   "outputs": [
    {
     "data": {
      "text/plain": "(2122006, 47)"
     },
     "execution_count": 8,
     "metadata": {},
     "output_type": "execute_result"
    }
   ],
   "source": [
    "# Concatenando datasets\n",
    "df_all = pd.concat([df2021, df2022], ignore_index=True, join='inner')\n",
    "df_all.shape"
   ],
   "metadata": {
    "collapsed": false,
    "pycharm": {
     "name": "#%%\n"
    }
   }
  },
  {
   "cell_type": "code",
   "execution_count": 9,
   "outputs": [],
   "source": [
    "# Exportando para csv\n",
    "df_all.to_csv(\"datasets/INFLUD21&22-01-08-2022.csv\", sep=';', index=False)"
   ],
   "metadata": {
    "collapsed": false,
    "pycharm": {
     "name": "#%%\n"
    }
   }
  },
  {
   "cell_type": "markdown",
   "source": [
    "# Mapeando os dados"
   ],
   "metadata": {
    "collapsed": false,
    "pycharm": {
     "name": "#%% md\n"
    }
   }
  },
  {
   "cell_type": "code",
   "execution_count": 10,
   "outputs": [],
   "source": [
    "SINTOMAS = ['FEBRE', 'TOSSE', 'GARGANTA', 'DISPNEIA', 'DESC_RESP', 'SATURACAO', 'DIARREIA', 'VOMITO', 'DOR_ABD', 'FADIGA', 'PERD_OLFT', 'PERD_PALA']\n",
    "COMORBIDADES = ['PUERPERA', 'CARDIOPATI', 'HEMATOLOGI', 'SIND_DOWN', 'HEPATICA', 'ASMA', 'DIABETES', 'NEUROLOGIC', 'RENAL', 'OBESIDADE']"
   ],
   "metadata": {
    "collapsed": false,
    "pycharm": {
     "name": "#%%\n"
    }
   }
  },
  {
   "cell_type": "code",
   "execution_count": 11,
   "outputs": [],
   "source": [
    "\"\"\" Mapeando dados para os sintomas e fatores de risco (Comorbidades)\n",
    "Valores padrões para colunas a seguir: Sim (1)\n",
    "                                       Não (0)\n",
    "                                       Não informado (np.Nan)\n",
    "\"\"\"\n",
    "# Sintomas:\n",
    "for sintoma in SINTOMAS:\n",
    "    df_all[sintoma] = df_all[sintoma].map({\n",
    "        1: 1,\n",
    "        2: 0,\n",
    "        9: np.NaN\n",
    "    })\n",
    "\n",
    "# Comorbidades\n",
    "for comorbidade in COMORBIDADES:\n",
    "    df_all[comorbidade] = df_all[comorbidade].map({\n",
    "        1: 1,\n",
    "        2: 0,\n",
    "        9: np.NaN\n",
    "    })\n",
    "\n",
    "# Caso fator de risco for == 2, prencher com 0 (Negativo)\n",
    "df_all['FATOR_RISC'].replace([2], 0, inplace=True)"
   ],
   "metadata": {
    "collapsed": false,
    "pycharm": {
     "name": "#%%\n"
    }
   }
  },
  {
   "cell_type": "code",
   "execution_count": 12,
   "outputs": [],
   "source": [
    "# Quantidade de SINTOMAS e COMORBIDADES por paciente\n",
    "df_all['NUM_SINTOMAS'] = df_all[SINTOMAS].sum(axis=1)\n",
    "df_all['NUM_COMORBI'] = df_all[COMORBIDADES].sum(axis=1)"
   ],
   "metadata": {
    "collapsed": false,
    "pycharm": {
     "name": "#%%\n"
    }
   }
  },
  {
   "cell_type": "code",
   "execution_count": 13,
   "outputs": [],
   "source": [
    "# Adicionando Idade e Faixa Etária\n",
    "# caso a idade for do tipo 1 e 2 , quer dizer que o paciente ainda não completou 1 ano de idade\n",
    "df_all['AGE'] = np.where(df_all['TP_IDADE'].isin([1, 2]), 0, df_all['NU_IDADE_N'])"
   ],
   "metadata": {
    "collapsed": false,
    "pycharm": {
     "name": "#%%\n"
    }
   }
  },
  {
   "cell_type": "code",
   "execution_count": 14,
   "outputs": [],
   "source": [
    "# Classificando pacientes por grupo de idades\n",
    "bins = [0, 18, 40, 60, 70, 80, 90, np.inf]\n",
    "labels = ['0-17','18-39','40-59','60-69','70-79','80-89','>=90'] # CONFERIR SE TA CERTO\n",
    "\n",
    "df_all['AGE_GROUP'] = pd.cut(df_all['AGE'], bins, False, labels)"
   ],
   "metadata": {
    "collapsed": false,
    "pycharm": {
     "name": "#%%\n"
    }
   }
  },
  {
   "cell_type": "code",
   "execution_count": 15,
   "outputs": [],
   "source": [
    "# Baseado na coluna EVOLUCAO, desconsiderando casos de óbito por outras causas e casos ignorados\n",
    "df_all['OUTCOME'] = df_all['EVOLUCAO'].replace([1, 2, 3, 9], ['cure', 'death', np.NaN, np.NaN])"
   ],
   "metadata": {
    "collapsed": false,
    "pycharm": {
     "name": "#%%\n"
    }
   }
  },
  {
   "cell_type": "code",
   "execution_count": 16,
   "outputs": [],
   "source": [
    "# Criando a coluna de regiões de cada paciente\n",
    "condlist = [\n",
    "    (df_all['SG_UF_NOT'].str.contains('AC|AP|AM|PA|RO|RR|TO')),\n",
    "    (df_all['SG_UF_NOT'].str.contains('AL|BA|CE|MA|PB|PE|PI|RN|SE')),\n",
    "    (df_all['SG_UF_NOT'].str.contains('GO|MT|MS|DF')),\n",
    "    (df_all['SG_UF_NOT'].str.contains('ES|MG|RJ|SP')),\n",
    "    (df_all['SG_UF_NOT'].str.contains('SC|PR|RS'))\n",
    "]\n",
    "\n",
    "choicelist = ['North', 'Northeast', 'Midwest', 'Southeast', 'South']\n",
    "\n",
    "df_all['REGION'] = np.select(condlist, choicelist, default=np.NaN)"
   ],
   "metadata": {
    "collapsed": false,
    "pycharm": {
     "name": "#%%\n"
    }
   }
  },
  {
   "cell_type": "code",
   "execution_count": 17,
   "outputs": [],
   "source": [
    "# Criando coluna de raça por paciente baseado na coluna CS_RACA\n",
    "df_all['RACE'] = df_all['CS_RACA'].replace([1, 2, 3, 4, 5, 9], ['White', 'Black', 'Asian', 'Brown', 'Indigenous', np.NaN])"
   ],
   "metadata": {
    "collapsed": false,
    "pycharm": {
     "name": "#%%\n"
    }
   }
  },
  {
   "cell_type": "code",
   "execution_count": 18,
   "outputs": [],
   "source": [
    "# Criando coluna de educação (Nivel de escolaridade) baseado na coluna CS_ESCOL_N\n",
    "df_all['EDUCATION'] = df_all['CS_ESCOL_N'].replace([0, 1, 2, 3, 4, 5, 9], ['Illiterate', 'ES-1', 'ES-2', 'HS', 'HE', 'NA', np.NaN])"
   ],
   "metadata": {
    "collapsed": false,
    "pycharm": {
     "name": "#%%\n"
    }
   }
  },
  {
   "cell_type": "code",
   "execution_count": 19,
   "outputs": [],
   "source": [
    "# Convertendo datas para datetime\n",
    "listDates = ['DOSE_1_COV', 'DOSE_2_COV', 'DOSE_REF', 'DT_INTERNA', 'DT_SIN_PRI', 'DT_EVOLUCA']\n",
    "\n",
    "for column_date in listDates:\n",
    "    df_all[column_date] = pd.to_datetime(df_all[column_date], format='%d/%m/%Y', errors='coerce')"
   ],
   "metadata": {
    "collapsed": false,
    "pycharm": {
     "name": "#%%\n"
    }
   }
  },
  {
   "cell_type": "code",
   "execution_count": 20,
   "outputs": [],
   "source": [
    "# Criando coluna que diz se o paciente foi internado na UTI\n",
    "df_all['ICU'] = df_all['UTI'].replace([1, 2, 9], [1, 0, np.NaN])"
   ],
   "metadata": {
    "collapsed": false,
    "pycharm": {
     "name": "#%%\n"
    }
   }
  },
  {
   "cell_type": "code",
   "execution_count": 21,
   "outputs": [],
   "source": [
    "# Criando coluna que diz se o paciente fez uso do suporte ventilatório INVASIVO\n",
    "df_all['IMV'] = df_all['SUPORT_VEN'].replace([1, 2, 3, 9], [1, 0, 0, np.NaN])"
   ],
   "metadata": {
    "collapsed": false,
    "pycharm": {
     "name": "#%%\n"
    }
   }
  },
  {
   "cell_type": "code",
   "execution_count": 22,
   "outputs": [],
   "source": [
    "# Criando coluna que diz se o paciente fez uso do suporte ventilatório NÃO INVASIVO\n",
    "df_all['NIMV'] = df_all['SUPORT_VEN'].replace([1, 2, 3, 9], [0, 1, 0, np.NaN])"
   ],
   "metadata": {
    "collapsed": false,
    "pycharm": {
     "name": "#%%\n"
    }
   }
  },
  {
   "cell_type": "code",
   "execution_count": 23,
   "outputs": [],
   "source": [
    "# Criação da coluna da gravidade das dos sintomas do paciente\n",
    "\n",
    "# SINTOMAS = ['FEBRE', 'TOSSE', 'GARGANTA', 'DISPNEIA', 'DESC_RESP', 'SATURACAO', 'DIARREIA', 'VOMITO', 'DOR_ABD', 'FADIGA', 'PERD_OLFT', 'PERD_PALA']\n",
    "\n",
    "condlist = [\n",
    "    ((df_all['SUPORT_VEN'] == 1) | (df_all['UTI'] == 1)),\n",
    "    (df_all['SATURACAO'] == 1),\n",
    "    ((df_all['DESC_RESP'] == 1) | (df_all['DISPNEIA'] == 1)),\n",
    "    ((df_all['NUM_SINTOMAS'] > 0) & (df_all['DESC_RESP'] != 1) & (df_all['DISPNEIA'] != 1)),\n",
    "    (df_all['NUM_SINTOMAS'] == 0)\n",
    "]\n",
    "\n",
    "choicelist = [\n",
    "    'critical',\n",
    "    'severe',\n",
    "    'moderate',\n",
    "    'mild',\n",
    "    'asymptomatic'\n",
    "]\n",
    "\n",
    "df_all['DISEASE_SEVERITY'] = np.select(condlist, choicelist, default=np.NaN)"
   ],
   "metadata": {
    "collapsed": false,
    "pycharm": {
     "name": "#%%\n"
    }
   }
  },
  {
   "cell_type": "code",
   "execution_count": 24,
   "outputs": [
    {
     "name": "stdout",
     "output_type": "stream",
     "text": [
      "All data: (2122006, 59)\n"
     ]
    }
   ],
   "source": [
    "print(f\"All data: {df_all.shape}\")"
   ],
   "metadata": {
    "collapsed": false,
    "pycharm": {
     "name": "#%%\n"
    }
   }
  },
  {
   "cell_type": "code",
   "execution_count": 25,
   "outputs": [
    {
     "name": "stdout",
     "output_type": "stream",
     "text": [
      "Patients with closed outcome: (1779771, 59)\n"
     ]
    }
   ],
   "source": [
    "# Mantendo apenas pacientes que tenham o resultado final do tratamento hospitalar com o valor de 'cure' ou 'death'\n",
    "select = df_all['OUTCOME'].isin(['cure', 'death'])\n",
    "df_all = df_all[select]\n",
    "print(f\"Patients with closed outcome: {df_all.shape}\")"
   ],
   "metadata": {
    "collapsed": false,
    "pycharm": {
     "name": "#%%\n"
    }
   }
  },
  {
   "cell_type": "code",
   "execution_count": 26,
   "outputs": [
    {
     "name": "stdout",
     "output_type": "stream",
     "text": [
      "Patients >= 18 yrs: (1578079, 59)\n"
     ]
    }
   ],
   "source": [
    "# Mantendo apenas pacientes maiores de idade\n",
    "select = ((df_all['AGE_GROUP'] == '18-39') | (df_all['AGE_GROUP'] == '40-59') | (df_all['AGE_GROUP'] == '60-69') | (df_all['AGE_GROUP'] == '70-79') | (df_all['AGE_GROUP'] == '80-89') | (df_all['AGE_GROUP'] == '>=90'))\n",
    "df_all = df_all[select]\n",
    "print(f\"Patients >= 18 yrs: {df_all.shape}\")"
   ],
   "metadata": {
    "collapsed": false,
    "pycharm": {
     "name": "#%%\n"
    }
   }
  },
  {
   "cell_type": "code",
   "execution_count": 27,
   "outputs": [
    {
     "name": "stdout",
     "output_type": "stream",
     "text": [
      "Patients with gender: (1577932, 59)\n"
     ]
    }
   ],
   "source": [
    "# Mantendo apenas pacientes que tenham genero definido como masculino ou feminino\n",
    "select = df_all['CS_SEXO'].isin(['M', 'F'])\n",
    "df_all = df_all[select]\n",
    "print(f\"Patients with gender: {df_all.shape}\")"
   ],
   "metadata": {
    "collapsed": false,
    "pycharm": {
     "name": "#%%\n"
    }
   }
  },
  {
   "cell_type": "code",
   "execution_count": 28,
   "outputs": [
    {
     "name": "stdout",
     "output_type": "stream",
     "text": [
      "Patients hospitalized: (1517329, 59)\n"
     ]
    }
   ],
   "source": [
    "# Mantendo apenas pacientes que foram hospitalizados\n",
    "select = df_all['HOSPITAL'] == 1\n",
    "df_all = df_all[select]\n",
    "print(f\"Patients hospitalized: {df_all.shape}\")"
   ],
   "metadata": {
    "collapsed": false,
    "pycharm": {
     "name": "#%%\n"
    }
   }
  },
  {
   "cell_type": "code",
   "execution_count": 29,
   "outputs": [
    {
     "name": "stdout",
     "output_type": "stream",
     "text": [
      "<class 'pandas.core.series.Series'>\n",
      "Int64Index: 1517329 entries, 1 to 2122001\n",
      "Series name: DT_INTERNA\n",
      "Non-Null Count    Dtype         \n",
      "--------------    -----         \n",
      "1492918 non-null  datetime64[ns]\n",
      "dtypes: datetime64[ns](1)\n",
      "memory usage: 23.2 MB\n"
     ]
    }
   ],
   "source": [
    "# Conferindo se tem algum paciente que foi hospitalizado sem data de internação\n",
    "df_all['DT_INTERNA'].info()"
   ],
   "metadata": {
    "collapsed": false,
    "pycharm": {
     "name": "#%%\n"
    }
   }
  },
  {
   "cell_type": "code",
   "execution_count": 30,
   "outputs": [
    {
     "name": "stdout",
     "output_type": "stream",
     "text": [
      "Patients hospitalized btw 05/09/2021 and 02/04/2022': (690987, 59)\n"
     ]
    }
   ],
   "source": [
    "# Mantendo apenas pacientes que foram hospitalizados do dia 05/09/2021 até 02/04/2022\n",
    "select = ((df_all['DT_INTERNA'] > '05/09/2021') & (df_all['DT_INTERNA'] < '02/04/2022'))\n",
    "df_all = df_all[select]\n",
    "print(f\"Patients hospitalized btw 05/09/2021 and 02/04/2022': {df_all.shape}\")"
   ],
   "metadata": {
    "collapsed": false,
    "pycharm": {
     "name": "#%%\n"
    }
   }
  },
  {
   "cell_type": "code",
   "execution_count": 31,
   "outputs": [
    {
     "name": "stdout",
     "output_type": "stream",
     "text": [
      "Patients with COVID-19: (514952, 59)\n"
     ]
    }
   ],
   "source": [
    "# Mantendo apenas pacientes hospitalizados com Síndrome Respiratória Aguda Grave por causa da COVID-19.\n",
    "select = df_all['CLASSI_FIN'] == 5\n",
    "df_all = df_all[select]\n",
    "print(f\"Patients with COVID-19: {df_all.shape}\")"
   ],
   "metadata": {
    "collapsed": false,
    "pycharm": {
     "name": "#%%\n"
    }
   }
  },
  {
   "cell_type": "code",
   "execution_count": 32,
   "outputs": [
    {
     "name": "stdout",
     "output_type": "stream",
     "text": [
      "Patients tested by RT_PCR or Antigen: (393283, 59)\n"
     ]
    }
   ],
   "source": [
    "# Mantendo apenas pacientes testados com antígeno ou PCR\n",
    "select = ((df_all['PCR_SARS2'] == 1) | (df_all['AN_SARS2'] == 1))\n",
    "df_all = df_all[select]\n",
    "print(f\"Patients tested by RT_PCR or Antigen: {df_all.shape}\")"
   ],
   "metadata": {
    "collapsed": false,
    "pycharm": {
     "name": "#%%\n"
    }
   }
  },
  {
   "cell_type": "code",
   "execution_count": 33,
   "outputs": [
    {
     "name": "stdout",
     "output_type": "stream",
     "text": [
      "Patients tested by RT_PCR or Antigen: (309456, 59)\n"
     ]
    }
   ],
   "source": [
    "# Mantendo apenas pacientes com status de vacinação sim ou não\n",
    "select = df_all['VACINA_COV'].isin([1, 2])\n",
    "df_all = df_all[select]\n",
    "print(f\"Patients tested by RT_PCR or Antigen: {df_all.shape}\")"
   ],
   "metadata": {
    "collapsed": false,
    "pycharm": {
     "name": "#%%\n"
    }
   }
  },
  {
   "cell_type": "code",
   "execution_count": 34,
   "outputs": [],
   "source": [
    "df_all.to_csv(\"datasets/INFLUD21&22-01-08-2022-FILTERED.csv\", sep=';', index=False)"
   ],
   "metadata": {
    "collapsed": false,
    "pycharm": {
     "name": "#%%\n"
    }
   }
  },
  {
   "cell_type": "markdown",
   "source": [
    "# Mapeamento dos fabricantes das vacinas"
   ],
   "metadata": {
    "collapsed": false,
    "pycharm": {
     "name": "#%% md\n"
    }
   }
  },
  {
   "cell_type": "code",
   "execution_count": 35,
   "outputs": [],
   "source": [
    "# Caso tiver informações na primeira coluna de FAB_COV_1, completar as outras colunas de Fabricantes das vacinas.\n",
    "df_all.loc[df_all['FAB_COV_1'].str.contains('.*02 DOSES.*|.*2DOSE.*|.*2 DOSE.*|.*2 DOSES.*|.*1/2DOSE.*|.*1.*/2.*DOSE', na=False), 'FAB_COV_2'] = df_all['FAB_COV_1']\n",
    "df_all.loc[df_all['FAB_COV_1'].str.contains('.*03 DOSES.*|.*03 DOSE.*|.*3 DOSE.*|.*3 DOSES.*', na=False), 'FAB_COVREF'] = df_all['FAB_COV_1']"
   ],
   "metadata": {
    "collapsed": false,
    "pycharm": {
     "name": "#%%\n"
    }
   }
  },
  {
   "cell_type": "code",
   "execution_count": 36,
   "outputs": [],
   "source": [
    "# Padronizando nomes da vacinas.\n",
    "df_all.loc[df_all['FAB_COV_1'].str.contains('.*VAC.*|.*BUT.*|.*COR.*|.*TANT.*|.*BUNT.*|.*SINOV.*|BURANTAN', na=False), 'FAB_COV_1'] = 'CoronaVac'\n",
    "df_all.loc[df_all['FAB_COV_1'].str.contains('.*ASTR.*|.*OX.*|.*FIO.*|.*OSWALDO.*|.*NECA.*|.*ZENICA.*|.*CRUZ.*|.*COVISH.*|COVISSHIELD|ATRAZENCA|OSFORD|COVIDSCHILD|.*AZTRA.*|.*ORXFORD.*|.*ATRAZ.*|.*COVIS.*', na=False), 'FAB_COV_1'] = 'Vexzevria'\n",
    "df_all.loc[df_all['FAB_COV_1'].str.contains('.*PFIZER.*|.*PFAZER.*|.*PF.*|.*ZER.*|PIFAZER|PZIFER|.*BIONT.*|COMIRNATY|PZIER|BIOTECH|.*TECH.*|FAISER|COMINARTY', na=False), 'FAB_COV_1'] = 'Comirnaty'\n",
    "df_all.loc[df_all['FAB_COV_1'].str.contains('.*JAN.*|.*JASS.*|.*JONH.*|.*JOHS.*|.*JHON.*|.*JHAN.*|.*JHOM.*|.*JOHN.*|.*JENS.*|JASEN|.*JAHNS.*|JONSSEN|.*J+J.*', na=False), 'FAB_COV_1'] = 'Janssen'"
   ],
   "metadata": {
    "collapsed": false,
    "pycharm": {
     "name": "#%%\n"
    }
   }
  },
  {
   "cell_type": "code",
   "execution_count": 37,
   "outputs": [],
   "source": [
    "df_all.loc[df_all['FAB_COV_2'].str.contains('.*VAC.*|.*BUT.*|.*COR.*|.*TANT.*|BUANTAN|.*SINOVAS.*', na=False), 'FAB_COV_2'] = 'CoronaVac'\n",
    "df_all.loc[df_all['FAB_COV_2'].str.contains('.*ASTR.*|.*OX.*|.*FIO.*|.*OSWALDO.*|.*NECA.*|.*ZENICA.*|.*CRUZ.*|214VCD089W|217VCD238Z|218VCD263Z|.*AZTRA.*|.*ORXFORD.*|OSFORD', na=False), 'FAB_COV_2'] = 'Vexzevria'\n",
    "df_all.loc[df_all['FAB_COV_2'].str.contains('.*PFIZER.*|.*PFAZER.*|.*PF.*|PHIZER|.*ZER.*|PZIFER|PZIPER|.*TEC.*|J+J', na=False), 'FAB_COV_2'] = 'Comirnaty'\n",
    "df_all.loc[df_all['FAB_COV_2'].str.contains('.*JAN.*|.*JASS.*|JHONSON|JAHSSEN', na=False), 'FAB_COV_2'] = 'Janssen'"
   ],
   "metadata": {
    "collapsed": false,
    "pycharm": {
     "name": "#%%\n"
    }
   }
  },
  {
   "cell_type": "code",
   "execution_count": 38,
   "outputs": [],
   "source": [
    "df_all.loc[df_all['FAB_COVREF'].str.contains('.*VAC.*|.*BUTAN.*|.*COR.*', na=False), 'FAB_COVREF'] = 'CoronaVac'\n",
    "df_all.loc[df_all['FAB_COVREF'].str.contains('.*ASTR.*|.*OXFORD.*|.*FIOCRUZ.*|.*OSWALDO.*|.*NECA.*|.*CRUZ.*|.*CUZ.*|.*AZTRA.*', na=False), 'FAB_COVREF'] = 'Vexzevria'\n",
    "df_all.loc[df_all['FAB_COVREF'].str.contains('.*PFIZER.*|.*PFAZER.*|.*ZER.*|.*PF.*|.*P.*ER.*|PHIZER|FIZER|BIONTECH|PZIZER|FH8025|FN3543|.*TEC.*|COMIRNATY|.*BIO.*|FAESSER|COMINARTY', na=False), 'FAB_COVREF'] = 'Comirnaty'\n",
    "df_all.loc[df_all['FAB_COVREF'].str.contains('.*JAN.*|.*JASS.*|.*JAIS.*', na=False), 'FAB_COVREF'] = 'Janssen'"
   ],
   "metadata": {
    "collapsed": false,
    "pycharm": {
     "name": "#%%\n"
    }
   }
  },
  {
   "cell_type": "code",
   "execution_count": 39,
   "outputs": [],
   "source": [
    "# vaccines = ['CoronaVac', 'Vexzevria', 'Comirnaty', 'Janssen', np.NaN]\n",
    "# Removendo Outliers\n",
    "\n",
    "condition = (df_all['FAB_COV_1'] != 'CoronaVac') & (df_all['FAB_COV_1'] != 'Vexzevria') & (df_all['FAB_COV_1'] != 'Comirnaty') & (df_all['FAB_COV_1'] != 'Janssen') & (df_all['FAB_COV_1'].notnull())\n",
    "\n",
    "index_list_remove_fab1 = df_all[condition].index\n",
    "df_all.drop(index_list_remove_fab1, inplace=True)\n",
    "\n",
    "condition = (df_all['FAB_COV_2'] != 'CoronaVac') & (df_all['FAB_COV_2'] != 'Vexzevria') & (df_all['FAB_COV_2'] != 'Comirnaty') & (df_all['FAB_COV_2'] != 'Janssen') & (df_all['FAB_COV_2'].notnull())\n",
    "\n",
    "index_list_remove_fab2 = df_all[condition].index\n",
    "df_all.drop(index_list_remove_fab2, inplace=True)\n",
    "\n",
    "condition = (df_all['FAB_COVREF'] != 'CoronaVac') & (df_all['FAB_COVREF'] != 'Vexzevria') & (df_all['FAB_COVREF'] != 'Comirnaty') & (df_all['FAB_COVREF'] != 'Janssen') & (df_all['FAB_COVREF'].notnull())\n",
    "\n",
    "index_list_remove_fabref = df_all[condition].index\n",
    "df_all.drop(index_list_remove_fabref, inplace=True)"
   ],
   "metadata": {
    "collapsed": false,
    "pycharm": {
     "name": "#%%\n"
    }
   }
  },
  {
   "cell_type": "code",
   "execution_count": 40,
   "outputs": [],
   "source": [
    "df_all.loc[(df_all['DOSE_2_COV'].notnull() & df_all['FAB_COV_2'].isnull()), 'FAB_COV_2'] = df_all['FAB_COV_1']\n",
    "df_all.loc[(df_all['DOSE_REF'].notnull() & df_all['FAB_COVREF'].isnull()), 'FAB_COVREF'] = df_all['FAB_COV_1']"
   ],
   "metadata": {
    "collapsed": false,
    "pycharm": {
     "name": "#%%\n"
    }
   }
  },
  {
   "cell_type": "code",
   "execution_count": 41,
   "outputs": [],
   "source": [
    "# Removendo linhas que tenham 1 data de vacinação e não tem o fabricante\n",
    "condition = df_all['DOSE_1_COV'].notnull() & df_all['FAB_COV_1'].isnull()\n",
    "index_list_remove = df_all[condition].index\n",
    "df_all.drop(index_list_remove, inplace=True)"
   ],
   "metadata": {
    "collapsed": false,
    "pycharm": {
     "name": "#%%\n"
    }
   }
  },
  {
   "cell_type": "code",
   "execution_count": 42,
   "outputs": [],
   "source": [
    "# Removendo linhas que tenham 2 data de vacinação e não tem o fabricante\n",
    "condition = df_all['DOSE_2_COV'].notnull() & df_all['FAB_COV_2'].isnull()\n",
    "index_list_remove = df_all[condition].index\n",
    "df_all.drop(index_list_remove, inplace=True)"
   ],
   "metadata": {
    "collapsed": false,
    "pycharm": {
     "name": "#%%\n"
    }
   }
  },
  {
   "cell_type": "code",
   "execution_count": 43,
   "outputs": [],
   "source": [
    "# Removendo linhas que tenham 3 data de vacinação, dose de reforço, e não tem o fabricante da vacinação\n",
    "condition = df_all['DOSE_REF'].notnull() & df_all['FAB_COVREF'].isnull()\n",
    "index_list_remove = df_all[condition].index\n",
    "df_all.drop(index_list_remove, inplace=True)"
   ],
   "metadata": {
    "collapsed": false,
    "pycharm": {
     "name": "#%%\n"
    }
   }
  },
  {
   "cell_type": "code",
   "execution_count": 44,
   "outputs": [],
   "source": [
    "# Verificando se existem pacientes com status vacinado (VACINA_COV == 1) que não tem nehuma data ( DOSE_1_COV, DOSE_2_COV, DOSE_REF) e removendo essas linhas do dataset\n",
    "condition = df_all['DOSE_1_COV'].isnull() & df_all['DOSE_2_COV'].isnull() & df_all['DOSE_REF'].isnull() & (df_all['VACINA_COV'] == 1)\n",
    "index_list_remove = df_all[condition].index\n",
    "df_all.drop(index_list_remove, inplace=True)"
   ],
   "metadata": {
    "collapsed": false,
    "pycharm": {
     "name": "#%%\n"
    }
   }
  },
  {
   "cell_type": "code",
   "execution_count": 45,
   "outputs": [],
   "source": [
    "# Verificando a quantidade de doses que o paciente tomou\n",
    "conditionlist = [\n",
    "    (df_all['DOSE_1_COV'].notnull() & df_all['DOSE_2_COV'].notnull() & df_all['DOSE_REF'].notnull()),\n",
    "    (df_all['DOSE_1_COV'].notnull() & df_all['DOSE_2_COV'].notnull() & df_all['DOSE_REF'].isnull()),\n",
    "    (df_all['DOSE_1_COV'].notnull() & df_all['DOSE_2_COV'].isnull() & df_all['DOSE_REF'].isnull()),\n",
    "    (df_all['DOSE_1_COV'].isnull() & df_all['DOSE_2_COV'].isnull() & df_all['DOSE_REF'].isnull())\n",
    "]\n",
    "choicelist = [3, 2, 1, 0]\n",
    "\n",
    "df_all['NUM_DOSES_VACINAS'] = np.select(conditionlist, choicelist, default=np.NaN)"
   ],
   "metadata": {
    "collapsed": false,
    "pycharm": {
     "name": "#%%\n"
    }
   }
  },
  {
   "cell_type": "code",
   "execution_count": 46,
   "outputs": [],
   "source": [
    "# Verificar vacina principal das doses tomadas\n",
    "conditionlist = [\n",
    "    (df_all['FAB_COV_1'] == df_all['FAB_COV_2']),\n",
    "    (df_all['FAB_COV_2'] == df_all['FAB_COVREF']),\n",
    "    (df_all['FAB_COV_1'] == df_all['FAB_COVREF']),\n",
    "    (df_all['FAB_COV_1'].notnull() & df_all['FAB_COV_2'].isnull() & df_all['FAB_COVREF'].isnull()),\n",
    "    (df_all['FAB_COV_1'].isnull() & df_all['FAB_COV_2'].notnull() & df_all['FAB_COVREF'].isnull()),\n",
    "    (df_all['FAB_COV_1'].isnull() & df_all['FAB_COV_2'].isnull() & df_all['FAB_COVREF'].notnull())\n",
    "]\n",
    "choicelist = [df_all['FAB_COV_1'], df_all['FAB_COV_2'], df_all['FAB_COVREF'], df_all['FAB_COV_1'], df_all['FAB_COV_2'], df_all['FAB_COVREF']]\n",
    "\n",
    "df_all['MAIN_VAC'] = np.select(conditionlist, choicelist, default=np.NaN)"
   ],
   "metadata": {
    "collapsed": false,
    "pycharm": {
     "name": "#%%\n"
    }
   }
  },
  {
   "cell_type": "markdown",
   "source": [
    "# Separação das bases"
   ],
   "metadata": {
    "collapsed": false,
    "pycharm": {
     "name": "#%% md\n"
    }
   }
  },
  {
   "cell_type": "code",
   "execution_count": 51,
   "outputs": [
    {
     "name": "stderr",
     "output_type": "stream",
     "text": [
      "/home/igorsantiagostudy/anaconda3/lib/python3.9/site-packages/pandas/core/arraylike.py:48: UserWarning: Parsing '18/12/2021' in DD/MM/YYYY format. Provide format or specify infer_datetime_format=True for consistent parsing.\n",
      "  return self._cmp_method(other, operator.lt)\n"
     ]
    },
    {
     "data": {
      "text/plain": "        DT_SIN_PRI SG_UF_NOT CS_SEXO  NU_IDADE_N  TP_IDADE  CS_GESTANT  \\\n690     2021-04-30        SP       M          33         3           6   \n700     2021-05-06        RS       M          37         3           6   \n705     2021-05-01        DF       F          54         3           5   \n716     2021-04-30        SP       M          53         3           6   \n718     2021-05-06        PR       M          69         3           6   \n...            ...       ...     ...         ...       ...         ...   \n2112290 2022-01-24        SP       M          62         3           6   \n2113198 2022-01-19        RN       M          30         3           6   \n2114915 2022-01-11        SP       M          52         3           6   \n2117244 2022-01-17        CE       M          49         3           6   \n2121354 2022-01-10        SC       F          40         3           5   \n\n         CS_RACA  CS_ESCOL_N  FEBRE  TOSSE  ...  OUTCOME     REGION   RACE  \\\n690            4         3.0    1.0    1.0  ...     cure  Southeast  Brown   \n700            1         NaN    0.0    1.0  ...     cure      South  White   \n705            4         9.0    1.0    1.0  ...     cure    Midwest  Brown   \n716            1         3.0    1.0    1.0  ...    death  Southeast  White   \n718            4         9.0    0.0    1.0  ...    death      South  Brown   \n...          ...         ...    ...    ...  ...      ...        ...    ...   \n2112290        1         9.0    NaN    NaN  ...     cure  Southeast  White   \n2113198        4         9.0    0.0    0.0  ...     cure  Northeast  Brown   \n2114915        1         9.0    1.0    1.0  ...     cure  Southeast  White   \n2117244        4         3.0    1.0    1.0  ...     cure  Northeast  Brown   \n2121354        1         NaN    NaN    NaN  ...    death      South  White   \n\n         EDUCATION  ICU  IMV  NIMV  DISEASE_SEVERITY  NUM_DOSES_VACINAS  \\\n690             HS  1.0  0.0   1.0          critical                0.0   \n700            NaN  1.0  0.0   1.0          critical                0.0   \n705            NaN  1.0  1.0   0.0          critical                0.0   \n716             HS  0.0  0.0   1.0            severe                0.0   \n718            NaN  0.0  1.0   0.0          critical                1.0   \n...            ...  ...  ...   ...               ...                ...   \n2112290        NaN  0.0  NaN   NaN      asymptomatic                2.0   \n2113198        NaN  1.0  0.0   1.0          critical                1.0   \n2114915        NaN  0.0  0.0   0.0              mild                2.0   \n2117244         HS  0.0  0.0   1.0          moderate                2.0   \n2121354        NaN  1.0  0.0   1.0          critical                1.0   \n\n          MAIN_VAC  \n690            NaN  \n700            NaN  \n705            NaN  \n716            NaN  \n718      Vexzevria  \n...            ...  \n2112290  Comirnaty  \n2113198  CoronaVac  \n2114915  Vexzevria  \n2117244  Comirnaty  \n2121354  CoronaVac  \n\n[239102 rows x 61 columns]",
      "text/html": "<div>\n<style scoped>\n    .dataframe tbody tr th:only-of-type {\n        vertical-align: middle;\n    }\n\n    .dataframe tbody tr th {\n        vertical-align: top;\n    }\n\n    .dataframe thead th {\n        text-align: right;\n    }\n</style>\n<table border=\"1\" class=\"dataframe\">\n  <thead>\n    <tr style=\"text-align: right;\">\n      <th></th>\n      <th>DT_SIN_PRI</th>\n      <th>SG_UF_NOT</th>\n      <th>CS_SEXO</th>\n      <th>NU_IDADE_N</th>\n      <th>TP_IDADE</th>\n      <th>CS_GESTANT</th>\n      <th>CS_RACA</th>\n      <th>CS_ESCOL_N</th>\n      <th>FEBRE</th>\n      <th>TOSSE</th>\n      <th>...</th>\n      <th>OUTCOME</th>\n      <th>REGION</th>\n      <th>RACE</th>\n      <th>EDUCATION</th>\n      <th>ICU</th>\n      <th>IMV</th>\n      <th>NIMV</th>\n      <th>DISEASE_SEVERITY</th>\n      <th>NUM_DOSES_VACINAS</th>\n      <th>MAIN_VAC</th>\n    </tr>\n  </thead>\n  <tbody>\n    <tr>\n      <th>690</th>\n      <td>2021-04-30</td>\n      <td>SP</td>\n      <td>M</td>\n      <td>33</td>\n      <td>3</td>\n      <td>6</td>\n      <td>4</td>\n      <td>3.0</td>\n      <td>1.0</td>\n      <td>1.0</td>\n      <td>...</td>\n      <td>cure</td>\n      <td>Southeast</td>\n      <td>Brown</td>\n      <td>HS</td>\n      <td>1.0</td>\n      <td>0.0</td>\n      <td>1.0</td>\n      <td>critical</td>\n      <td>0.0</td>\n      <td>NaN</td>\n    </tr>\n    <tr>\n      <th>700</th>\n      <td>2021-05-06</td>\n      <td>RS</td>\n      <td>M</td>\n      <td>37</td>\n      <td>3</td>\n      <td>6</td>\n      <td>1</td>\n      <td>NaN</td>\n      <td>0.0</td>\n      <td>1.0</td>\n      <td>...</td>\n      <td>cure</td>\n      <td>South</td>\n      <td>White</td>\n      <td>NaN</td>\n      <td>1.0</td>\n      <td>0.0</td>\n      <td>1.0</td>\n      <td>critical</td>\n      <td>0.0</td>\n      <td>NaN</td>\n    </tr>\n    <tr>\n      <th>705</th>\n      <td>2021-05-01</td>\n      <td>DF</td>\n      <td>F</td>\n      <td>54</td>\n      <td>3</td>\n      <td>5</td>\n      <td>4</td>\n      <td>9.0</td>\n      <td>1.0</td>\n      <td>1.0</td>\n      <td>...</td>\n      <td>cure</td>\n      <td>Midwest</td>\n      <td>Brown</td>\n      <td>NaN</td>\n      <td>1.0</td>\n      <td>1.0</td>\n      <td>0.0</td>\n      <td>critical</td>\n      <td>0.0</td>\n      <td>NaN</td>\n    </tr>\n    <tr>\n      <th>716</th>\n      <td>2021-04-30</td>\n      <td>SP</td>\n      <td>M</td>\n      <td>53</td>\n      <td>3</td>\n      <td>6</td>\n      <td>1</td>\n      <td>3.0</td>\n      <td>1.0</td>\n      <td>1.0</td>\n      <td>...</td>\n      <td>death</td>\n      <td>Southeast</td>\n      <td>White</td>\n      <td>HS</td>\n      <td>0.0</td>\n      <td>0.0</td>\n      <td>1.0</td>\n      <td>severe</td>\n      <td>0.0</td>\n      <td>NaN</td>\n    </tr>\n    <tr>\n      <th>718</th>\n      <td>2021-05-06</td>\n      <td>PR</td>\n      <td>M</td>\n      <td>69</td>\n      <td>3</td>\n      <td>6</td>\n      <td>4</td>\n      <td>9.0</td>\n      <td>0.0</td>\n      <td>1.0</td>\n      <td>...</td>\n      <td>death</td>\n      <td>South</td>\n      <td>Brown</td>\n      <td>NaN</td>\n      <td>0.0</td>\n      <td>1.0</td>\n      <td>0.0</td>\n      <td>critical</td>\n      <td>1.0</td>\n      <td>Vexzevria</td>\n    </tr>\n    <tr>\n      <th>...</th>\n      <td>...</td>\n      <td>...</td>\n      <td>...</td>\n      <td>...</td>\n      <td>...</td>\n      <td>...</td>\n      <td>...</td>\n      <td>...</td>\n      <td>...</td>\n      <td>...</td>\n      <td>...</td>\n      <td>...</td>\n      <td>...</td>\n      <td>...</td>\n      <td>...</td>\n      <td>...</td>\n      <td>...</td>\n      <td>...</td>\n      <td>...</td>\n      <td>...</td>\n      <td>...</td>\n    </tr>\n    <tr>\n      <th>2112290</th>\n      <td>2022-01-24</td>\n      <td>SP</td>\n      <td>M</td>\n      <td>62</td>\n      <td>3</td>\n      <td>6</td>\n      <td>1</td>\n      <td>9.0</td>\n      <td>NaN</td>\n      <td>NaN</td>\n      <td>...</td>\n      <td>cure</td>\n      <td>Southeast</td>\n      <td>White</td>\n      <td>NaN</td>\n      <td>0.0</td>\n      <td>NaN</td>\n      <td>NaN</td>\n      <td>asymptomatic</td>\n      <td>2.0</td>\n      <td>Comirnaty</td>\n    </tr>\n    <tr>\n      <th>2113198</th>\n      <td>2022-01-19</td>\n      <td>RN</td>\n      <td>M</td>\n      <td>30</td>\n      <td>3</td>\n      <td>6</td>\n      <td>4</td>\n      <td>9.0</td>\n      <td>0.0</td>\n      <td>0.0</td>\n      <td>...</td>\n      <td>cure</td>\n      <td>Northeast</td>\n      <td>Brown</td>\n      <td>NaN</td>\n      <td>1.0</td>\n      <td>0.0</td>\n      <td>1.0</td>\n      <td>critical</td>\n      <td>1.0</td>\n      <td>CoronaVac</td>\n    </tr>\n    <tr>\n      <th>2114915</th>\n      <td>2022-01-11</td>\n      <td>SP</td>\n      <td>M</td>\n      <td>52</td>\n      <td>3</td>\n      <td>6</td>\n      <td>1</td>\n      <td>9.0</td>\n      <td>1.0</td>\n      <td>1.0</td>\n      <td>...</td>\n      <td>cure</td>\n      <td>Southeast</td>\n      <td>White</td>\n      <td>NaN</td>\n      <td>0.0</td>\n      <td>0.0</td>\n      <td>0.0</td>\n      <td>mild</td>\n      <td>2.0</td>\n      <td>Vexzevria</td>\n    </tr>\n    <tr>\n      <th>2117244</th>\n      <td>2022-01-17</td>\n      <td>CE</td>\n      <td>M</td>\n      <td>49</td>\n      <td>3</td>\n      <td>6</td>\n      <td>4</td>\n      <td>3.0</td>\n      <td>1.0</td>\n      <td>1.0</td>\n      <td>...</td>\n      <td>cure</td>\n      <td>Northeast</td>\n      <td>Brown</td>\n      <td>HS</td>\n      <td>0.0</td>\n      <td>0.0</td>\n      <td>1.0</td>\n      <td>moderate</td>\n      <td>2.0</td>\n      <td>Comirnaty</td>\n    </tr>\n    <tr>\n      <th>2121354</th>\n      <td>2022-01-10</td>\n      <td>SC</td>\n      <td>F</td>\n      <td>40</td>\n      <td>3</td>\n      <td>5</td>\n      <td>1</td>\n      <td>NaN</td>\n      <td>NaN</td>\n      <td>NaN</td>\n      <td>...</td>\n      <td>death</td>\n      <td>South</td>\n      <td>White</td>\n      <td>NaN</td>\n      <td>1.0</td>\n      <td>0.0</td>\n      <td>1.0</td>\n      <td>critical</td>\n      <td>1.0</td>\n      <td>CoronaVac</td>\n    </tr>\n  </tbody>\n</table>\n<p>239102 rows × 61 columns</p>\n</div>"
     },
     "execution_count": 51,
     "metadata": {},
     "output_type": "execute_result"
    }
   ],
   "source": [
    "select = (df_all['DT_INTERNA'] > '05/09/2021') & (df_all['DT_INTERNA'] < '18/12/2021')\n",
    "df_all_exp_01 = df_all[select]\n",
    "\n",
    "df_all_exp_01.to_csv('outputs/INFLUD_05-09-2021_&_18-12-2021.csv', sep=';', index=False)\n",
    "df_all_exp_01"
   ],
   "metadata": {
    "collapsed": false,
    "pycharm": {
     "name": "#%%\n"
    }
   }
  },
  {
   "cell_type": "code",
   "execution_count": 52,
   "outputs": [
    {
     "name": "stderr",
     "output_type": "stream",
     "text": [
      "/home/igorsantiagostudy/anaconda3/lib/python3.9/site-packages/pandas/core/arraylike.py:56: UserWarning: Parsing '19/12/2021' in DD/MM/YYYY format. Provide format or specify infer_datetime_format=True for consistent parsing.\n",
      "  return self._cmp_method(other, operator.gt)\n"
     ]
    },
    {
     "data": {
      "text/plain": "        DT_SIN_PRI SG_UF_NOT CS_SEXO  NU_IDADE_N  TP_IDADE  CS_GESTANT  \\\n1611    2021-12-30        SP       F          57         3           5   \n1618    2021-12-13        CE       M          84         3           6   \n1622    2021-12-30        PE       M          62         3           6   \n1637    2022-01-01        SP       M          22         3           6   \n1638    2021-12-30        SC       F          86         3           5   \n...            ...       ...     ...         ...       ...         ...   \n2121789 2022-01-17        BA       M          70         3           6   \n2121790 2022-01-27        MG       M          70         3           6   \n2121816 2022-01-10        GO       M          82         3           6   \n2121835 2022-01-31        PA       F          87         3           6   \n2121851 2022-02-03        RS       F          56         3           5   \n\n         CS_RACA  CS_ESCOL_N  FEBRE  TOSSE  ...  OUTCOME     REGION   RACE  \\\n1611           1         2.0    1.0    1.0  ...     cure  Southeast  White   \n1618           4         NaN    1.0    1.0  ...     cure  Northeast  Brown   \n1622           4         0.0    1.0    1.0  ...     cure  Northeast  Brown   \n1637           1         2.0    0.0    1.0  ...     cure  Southeast  White   \n1638           1         1.0    0.0    1.0  ...    death      South  White   \n...          ...         ...    ...    ...  ...      ...        ...    ...   \n2121789        4         1.0    1.0    1.0  ...     cure  Northeast  Brown   \n2121790        1         NaN    NaN    1.0  ...    death  Southeast  White   \n2121816        1         NaN    1.0    0.0  ...    death    Midwest  White   \n2121835        4         9.0    1.0    1.0  ...     cure      North  Brown   \n2121851        9         1.0    0.0    0.0  ...     cure      South    NaN   \n\n          EDUCATION  ICU  IMV  NIMV  DISEASE_SEVERITY  NUM_DOSES_VACINAS  \\\n1611           ES-2  0.0  0.0   1.0            severe                1.0   \n1618            NaN  1.0  NaN   NaN          critical                0.0   \n1622     Illiterate  0.0  0.0   1.0            severe                2.0   \n1637           ES-2  1.0  0.0   0.0          critical                2.0   \n1638           ES-1  0.0  0.0   1.0            severe                2.0   \n...             ...  ...  ...   ...               ...                ...   \n2121789        ES-1  1.0  0.0   1.0          critical                3.0   \n2121790         NaN  1.0  1.0   0.0          critical                NaN   \n2121816         NaN  1.0  1.0   0.0          critical                3.0   \n2121835         NaN  0.0  0.0   0.0            severe                3.0   \n2121851        ES-1  0.0  0.0   1.0          moderate                3.0   \n\n          MAIN_VAC  \n1611     Vexzevria  \n1618           NaN  \n1622     Vexzevria  \n1637     Comirnaty  \n1638     CoronaVac  \n...            ...  \n2121789  Vexzevria  \n2121790  CoronaVac  \n2121816  CoronaVac  \n2121835  CoronaVac  \n2121851  Vexzevria  \n\n[48520 rows x 61 columns]",
      "text/html": "<div>\n<style scoped>\n    .dataframe tbody tr th:only-of-type {\n        vertical-align: middle;\n    }\n\n    .dataframe tbody tr th {\n        vertical-align: top;\n    }\n\n    .dataframe thead th {\n        text-align: right;\n    }\n</style>\n<table border=\"1\" class=\"dataframe\">\n  <thead>\n    <tr style=\"text-align: right;\">\n      <th></th>\n      <th>DT_SIN_PRI</th>\n      <th>SG_UF_NOT</th>\n      <th>CS_SEXO</th>\n      <th>NU_IDADE_N</th>\n      <th>TP_IDADE</th>\n      <th>CS_GESTANT</th>\n      <th>CS_RACA</th>\n      <th>CS_ESCOL_N</th>\n      <th>FEBRE</th>\n      <th>TOSSE</th>\n      <th>...</th>\n      <th>OUTCOME</th>\n      <th>REGION</th>\n      <th>RACE</th>\n      <th>EDUCATION</th>\n      <th>ICU</th>\n      <th>IMV</th>\n      <th>NIMV</th>\n      <th>DISEASE_SEVERITY</th>\n      <th>NUM_DOSES_VACINAS</th>\n      <th>MAIN_VAC</th>\n    </tr>\n  </thead>\n  <tbody>\n    <tr>\n      <th>1611</th>\n      <td>2021-12-30</td>\n      <td>SP</td>\n      <td>F</td>\n      <td>57</td>\n      <td>3</td>\n      <td>5</td>\n      <td>1</td>\n      <td>2.0</td>\n      <td>1.0</td>\n      <td>1.0</td>\n      <td>...</td>\n      <td>cure</td>\n      <td>Southeast</td>\n      <td>White</td>\n      <td>ES-2</td>\n      <td>0.0</td>\n      <td>0.0</td>\n      <td>1.0</td>\n      <td>severe</td>\n      <td>1.0</td>\n      <td>Vexzevria</td>\n    </tr>\n    <tr>\n      <th>1618</th>\n      <td>2021-12-13</td>\n      <td>CE</td>\n      <td>M</td>\n      <td>84</td>\n      <td>3</td>\n      <td>6</td>\n      <td>4</td>\n      <td>NaN</td>\n      <td>1.0</td>\n      <td>1.0</td>\n      <td>...</td>\n      <td>cure</td>\n      <td>Northeast</td>\n      <td>Brown</td>\n      <td>NaN</td>\n      <td>1.0</td>\n      <td>NaN</td>\n      <td>NaN</td>\n      <td>critical</td>\n      <td>0.0</td>\n      <td>NaN</td>\n    </tr>\n    <tr>\n      <th>1622</th>\n      <td>2021-12-30</td>\n      <td>PE</td>\n      <td>M</td>\n      <td>62</td>\n      <td>3</td>\n      <td>6</td>\n      <td>4</td>\n      <td>0.0</td>\n      <td>1.0</td>\n      <td>1.0</td>\n      <td>...</td>\n      <td>cure</td>\n      <td>Northeast</td>\n      <td>Brown</td>\n      <td>Illiterate</td>\n      <td>0.0</td>\n      <td>0.0</td>\n      <td>1.0</td>\n      <td>severe</td>\n      <td>2.0</td>\n      <td>Vexzevria</td>\n    </tr>\n    <tr>\n      <th>1637</th>\n      <td>2022-01-01</td>\n      <td>SP</td>\n      <td>M</td>\n      <td>22</td>\n      <td>3</td>\n      <td>6</td>\n      <td>1</td>\n      <td>2.0</td>\n      <td>0.0</td>\n      <td>1.0</td>\n      <td>...</td>\n      <td>cure</td>\n      <td>Southeast</td>\n      <td>White</td>\n      <td>ES-2</td>\n      <td>1.0</td>\n      <td>0.0</td>\n      <td>0.0</td>\n      <td>critical</td>\n      <td>2.0</td>\n      <td>Comirnaty</td>\n    </tr>\n    <tr>\n      <th>1638</th>\n      <td>2021-12-30</td>\n      <td>SC</td>\n      <td>F</td>\n      <td>86</td>\n      <td>3</td>\n      <td>5</td>\n      <td>1</td>\n      <td>1.0</td>\n      <td>0.0</td>\n      <td>1.0</td>\n      <td>...</td>\n      <td>death</td>\n      <td>South</td>\n      <td>White</td>\n      <td>ES-1</td>\n      <td>0.0</td>\n      <td>0.0</td>\n      <td>1.0</td>\n      <td>severe</td>\n      <td>2.0</td>\n      <td>CoronaVac</td>\n    </tr>\n    <tr>\n      <th>...</th>\n      <td>...</td>\n      <td>...</td>\n      <td>...</td>\n      <td>...</td>\n      <td>...</td>\n      <td>...</td>\n      <td>...</td>\n      <td>...</td>\n      <td>...</td>\n      <td>...</td>\n      <td>...</td>\n      <td>...</td>\n      <td>...</td>\n      <td>...</td>\n      <td>...</td>\n      <td>...</td>\n      <td>...</td>\n      <td>...</td>\n      <td>...</td>\n      <td>...</td>\n      <td>...</td>\n    </tr>\n    <tr>\n      <th>2121789</th>\n      <td>2022-01-17</td>\n      <td>BA</td>\n      <td>M</td>\n      <td>70</td>\n      <td>3</td>\n      <td>6</td>\n      <td>4</td>\n      <td>1.0</td>\n      <td>1.0</td>\n      <td>1.0</td>\n      <td>...</td>\n      <td>cure</td>\n      <td>Northeast</td>\n      <td>Brown</td>\n      <td>ES-1</td>\n      <td>1.0</td>\n      <td>0.0</td>\n      <td>1.0</td>\n      <td>critical</td>\n      <td>3.0</td>\n      <td>Vexzevria</td>\n    </tr>\n    <tr>\n      <th>2121790</th>\n      <td>2022-01-27</td>\n      <td>MG</td>\n      <td>M</td>\n      <td>70</td>\n      <td>3</td>\n      <td>6</td>\n      <td>1</td>\n      <td>NaN</td>\n      <td>NaN</td>\n      <td>1.0</td>\n      <td>...</td>\n      <td>death</td>\n      <td>Southeast</td>\n      <td>White</td>\n      <td>NaN</td>\n      <td>1.0</td>\n      <td>1.0</td>\n      <td>0.0</td>\n      <td>critical</td>\n      <td>NaN</td>\n      <td>CoronaVac</td>\n    </tr>\n    <tr>\n      <th>2121816</th>\n      <td>2022-01-10</td>\n      <td>GO</td>\n      <td>M</td>\n      <td>82</td>\n      <td>3</td>\n      <td>6</td>\n      <td>1</td>\n      <td>NaN</td>\n      <td>1.0</td>\n      <td>0.0</td>\n      <td>...</td>\n      <td>death</td>\n      <td>Midwest</td>\n      <td>White</td>\n      <td>NaN</td>\n      <td>1.0</td>\n      <td>1.0</td>\n      <td>0.0</td>\n      <td>critical</td>\n      <td>3.0</td>\n      <td>CoronaVac</td>\n    </tr>\n    <tr>\n      <th>2121835</th>\n      <td>2022-01-31</td>\n      <td>PA</td>\n      <td>F</td>\n      <td>87</td>\n      <td>3</td>\n      <td>6</td>\n      <td>4</td>\n      <td>9.0</td>\n      <td>1.0</td>\n      <td>1.0</td>\n      <td>...</td>\n      <td>cure</td>\n      <td>North</td>\n      <td>Brown</td>\n      <td>NaN</td>\n      <td>0.0</td>\n      <td>0.0</td>\n      <td>0.0</td>\n      <td>severe</td>\n      <td>3.0</td>\n      <td>CoronaVac</td>\n    </tr>\n    <tr>\n      <th>2121851</th>\n      <td>2022-02-03</td>\n      <td>RS</td>\n      <td>F</td>\n      <td>56</td>\n      <td>3</td>\n      <td>5</td>\n      <td>9</td>\n      <td>1.0</td>\n      <td>0.0</td>\n      <td>0.0</td>\n      <td>...</td>\n      <td>cure</td>\n      <td>South</td>\n      <td>NaN</td>\n      <td>ES-1</td>\n      <td>0.0</td>\n      <td>0.0</td>\n      <td>1.0</td>\n      <td>moderate</td>\n      <td>3.0</td>\n      <td>Vexzevria</td>\n    </tr>\n  </tbody>\n</table>\n<p>48520 rows × 61 columns</p>\n</div>"
     },
     "execution_count": 52,
     "metadata": {},
     "output_type": "execute_result"
    }
   ],
   "source": [
    "select = (df_all['DT_INTERNA'] > '19/12/2021') & (df_all['DT_INTERNA'] < '02/04/2022')\n",
    "df_all_exp_02 = df_all[select]\n",
    "\n",
    "df_all_exp_02.to_csv('outputs/INFLUD_19-12-2021_&_02-04-2022.csv', sep=';', index=False)\n",
    "df_all_exp_02"
   ],
   "metadata": {
    "collapsed": false,
    "pycharm": {
     "name": "#%%\n"
    }
   }
  }
 ],
 "metadata": {
  "kernelspec": {
   "display_name": "Python 3",
   "language": "python",
   "name": "python3"
  },
  "language_info": {
   "codemirror_mode": {
    "name": "ipython",
    "version": 2
   },
   "file_extension": ".py",
   "mimetype": "text/x-python",
   "name": "python",
   "nbconvert_exporter": "python",
   "pygments_lexer": "ipython2",
   "version": "2.7.6"
  }
 },
 "nbformat": 4,
 "nbformat_minor": 0
}