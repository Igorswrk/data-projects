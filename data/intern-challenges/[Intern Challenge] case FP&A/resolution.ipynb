{
 "cells": [
  {
   "cell_type": "markdown",
   "source": [
    "# Resolução Questão 2"
   ],
   "metadata": {
    "collapsed": false
   }
  },
  {
   "cell_type": "markdown",
   "source": [
    "Imports"
   ],
   "metadata": {
    "collapsed": false
   }
  },
  {
   "cell_type": "code",
   "execution_count": 1,
   "outputs": [],
   "source": [
    "import pandas as pd\n",
    "from sqlite3 import connect"
   ],
   "metadata": {
    "collapsed": false
   }
  },
  {
   "cell_type": "markdown",
   "source": [
    "Reading and cleaning database"
   ],
   "metadata": {
    "collapsed": false
   }
  },
  {
   "cell_type": "code",
   "execution_count": 2,
   "outputs": [
    {
     "data": {
      "text/plain": "          school_id school_state school_students tuition_value\n0        7140091498           BA             952           915\n1       17847374083           TO             929          3422\n2          78996896           RN             533           210\n3        3195632885           MG             357          3170\n4       11604354948           MS            1607          3285\n...             ...          ...             ...           ...\n499995  10386539343           SC            1900          3298\n499996   1248084019           MA            1104          4282\n499997   2728548975           AP            1476          1104\n499998    451021570           RS             329          1919\n499999   6734063721           DF             321          1443\n\n[500000 rows x 4 columns]",
      "text/html": "<div>\n<style scoped>\n    .dataframe tbody tr th:only-of-type {\n        vertical-align: middle;\n    }\n\n    .dataframe tbody tr th {\n        vertical-align: top;\n    }\n\n    .dataframe thead th {\n        text-align: right;\n    }\n</style>\n<table border=\"1\" class=\"dataframe\">\n  <thead>\n    <tr style=\"text-align: right;\">\n      <th></th>\n      <th>school_id</th>\n      <th>school_state</th>\n      <th>school_students</th>\n      <th>tuition_value</th>\n    </tr>\n  </thead>\n  <tbody>\n    <tr>\n      <th>0</th>\n      <td>7140091498</td>\n      <td>BA</td>\n      <td>952</td>\n      <td>915</td>\n    </tr>\n    <tr>\n      <th>1</th>\n      <td>17847374083</td>\n      <td>TO</td>\n      <td>929</td>\n      <td>3422</td>\n    </tr>\n    <tr>\n      <th>2</th>\n      <td>78996896</td>\n      <td>RN</td>\n      <td>533</td>\n      <td>210</td>\n    </tr>\n    <tr>\n      <th>3</th>\n      <td>3195632885</td>\n      <td>MG</td>\n      <td>357</td>\n      <td>3170</td>\n    </tr>\n    <tr>\n      <th>4</th>\n      <td>11604354948</td>\n      <td>MS</td>\n      <td>1607</td>\n      <td>3285</td>\n    </tr>\n    <tr>\n      <th>...</th>\n      <td>...</td>\n      <td>...</td>\n      <td>...</td>\n      <td>...</td>\n    </tr>\n    <tr>\n      <th>499995</th>\n      <td>10386539343</td>\n      <td>SC</td>\n      <td>1900</td>\n      <td>3298</td>\n    </tr>\n    <tr>\n      <th>499996</th>\n      <td>1248084019</td>\n      <td>MA</td>\n      <td>1104</td>\n      <td>4282</td>\n    </tr>\n    <tr>\n      <th>499997</th>\n      <td>2728548975</td>\n      <td>AP</td>\n      <td>1476</td>\n      <td>1104</td>\n    </tr>\n    <tr>\n      <th>499998</th>\n      <td>451021570</td>\n      <td>RS</td>\n      <td>329</td>\n      <td>1919</td>\n    </tr>\n    <tr>\n      <th>499999</th>\n      <td>6734063721</td>\n      <td>DF</td>\n      <td>321</td>\n      <td>1443</td>\n    </tr>\n  </tbody>\n</table>\n<p>500000 rows × 4 columns</p>\n</div>"
     },
     "execution_count": 2,
     "metadata": {},
     "output_type": "execute_result"
    }
   ],
   "source": [
    "database = pd.read_excel('./Mini-case FP&A_shared.xlsx', sheet_name='Database')\n",
    "database.drop('Unnamed: 0', axis=1, inplace=True)\n",
    "database.drop(index=0 , axis=0, inplace=True)\n",
    "database.rename(columns={'Unnamed: 1': 'school_id', 'Unnamed: 2': 'school_state', 'Unnamed: 3': 'school_students', 'Unnamed: 4': 'tuition_value'}, inplace=True)\n",
    "database.reset_index(drop=True)"
   ],
   "metadata": {
    "collapsed": false
   }
  },
  {
   "cell_type": "markdown",
   "source": [
    "Initializing connection to database"
   ],
   "metadata": {
    "collapsed": false
   }
  },
  {
   "cell_type": "code",
   "execution_count": 3,
   "outputs": [
    {
     "data": {
      "text/plain": "500000"
     },
     "execution_count": 3,
     "metadata": {},
     "output_type": "execute_result"
    }
   ],
   "source": [
    "conn = connect(':memory:') # Criando banco SQL\n",
    "database.to_sql('database', conn)"
   ],
   "metadata": {
    "collapsed": false
   }
  },
  {
   "cell_type": "markdown",
   "source": [
    "Resolution question 2 - a)"
   ],
   "metadata": {
    "collapsed": false
   }
  },
  {
   "cell_type": "code",
   "execution_count": 4,
   "outputs": [
    {
     "data": {
      "text/plain": "   school_state  qtt_schools\n0            RR        18772\n1            MT        18755\n2            RO        18686\n3            MG        18637\n4            BA        18604\n5            SP        18596\n6            AL        18593\n7            DF        18582\n8            PI        18571\n9            AP        18569\n10           SE        18544\n11           RJ        18543\n12           AM        18524\n13           GO        18501\n14           SC        18498\n15           PR        18496\n16           RN        18487\n17           PE        18475\n18           CE        18468\n19           PA        18458\n20           TO        18456\n21           RS        18446\n22           MS        18432\n23           PB        18403\n24           MA        18355\n25           ES        18351\n26           AC        18198",
      "text/html": "<div>\n<style scoped>\n    .dataframe tbody tr th:only-of-type {\n        vertical-align: middle;\n    }\n\n    .dataframe tbody tr th {\n        vertical-align: top;\n    }\n\n    .dataframe thead th {\n        text-align: right;\n    }\n</style>\n<table border=\"1\" class=\"dataframe\">\n  <thead>\n    <tr style=\"text-align: right;\">\n      <th></th>\n      <th>school_state</th>\n      <th>qtt_schools</th>\n    </tr>\n  </thead>\n  <tbody>\n    <tr>\n      <th>0</th>\n      <td>RR</td>\n      <td>18772</td>\n    </tr>\n    <tr>\n      <th>1</th>\n      <td>MT</td>\n      <td>18755</td>\n    </tr>\n    <tr>\n      <th>2</th>\n      <td>RO</td>\n      <td>18686</td>\n    </tr>\n    <tr>\n      <th>3</th>\n      <td>MG</td>\n      <td>18637</td>\n    </tr>\n    <tr>\n      <th>4</th>\n      <td>BA</td>\n      <td>18604</td>\n    </tr>\n    <tr>\n      <th>5</th>\n      <td>SP</td>\n      <td>18596</td>\n    </tr>\n    <tr>\n      <th>6</th>\n      <td>AL</td>\n      <td>18593</td>\n    </tr>\n    <tr>\n      <th>7</th>\n      <td>DF</td>\n      <td>18582</td>\n    </tr>\n    <tr>\n      <th>8</th>\n      <td>PI</td>\n      <td>18571</td>\n    </tr>\n    <tr>\n      <th>9</th>\n      <td>AP</td>\n      <td>18569</td>\n    </tr>\n    <tr>\n      <th>10</th>\n      <td>SE</td>\n      <td>18544</td>\n    </tr>\n    <tr>\n      <th>11</th>\n      <td>RJ</td>\n      <td>18543</td>\n    </tr>\n    <tr>\n      <th>12</th>\n      <td>AM</td>\n      <td>18524</td>\n    </tr>\n    <tr>\n      <th>13</th>\n      <td>GO</td>\n      <td>18501</td>\n    </tr>\n    <tr>\n      <th>14</th>\n      <td>SC</td>\n      <td>18498</td>\n    </tr>\n    <tr>\n      <th>15</th>\n      <td>PR</td>\n      <td>18496</td>\n    </tr>\n    <tr>\n      <th>16</th>\n      <td>RN</td>\n      <td>18487</td>\n    </tr>\n    <tr>\n      <th>17</th>\n      <td>PE</td>\n      <td>18475</td>\n    </tr>\n    <tr>\n      <th>18</th>\n      <td>CE</td>\n      <td>18468</td>\n    </tr>\n    <tr>\n      <th>19</th>\n      <td>PA</td>\n      <td>18458</td>\n    </tr>\n    <tr>\n      <th>20</th>\n      <td>TO</td>\n      <td>18456</td>\n    </tr>\n    <tr>\n      <th>21</th>\n      <td>RS</td>\n      <td>18446</td>\n    </tr>\n    <tr>\n      <th>22</th>\n      <td>MS</td>\n      <td>18432</td>\n    </tr>\n    <tr>\n      <th>23</th>\n      <td>PB</td>\n      <td>18403</td>\n    </tr>\n    <tr>\n      <th>24</th>\n      <td>MA</td>\n      <td>18355</td>\n    </tr>\n    <tr>\n      <th>25</th>\n      <td>ES</td>\n      <td>18351</td>\n    </tr>\n    <tr>\n      <th>26</th>\n      <td>AC</td>\n      <td>18198</td>\n    </tr>\n  </tbody>\n</table>\n</div>"
     },
     "execution_count": 4,
     "metadata": {},
     "output_type": "execute_result"
    }
   ],
   "source": [
    "question2a = pd.read_sql('SELECT school_state, '\n",
    "                         'count(DISTINCT school_id) AS qtt_schools '\n",
    "                         'FROM database '\n",
    "                         'GROUP BY 1 '\n",
    "                         'ORDER BY 2 DESC',\n",
    "                         conn)\n",
    "question2a"
   ],
   "metadata": {
    "collapsed": false
   }
  },
  {
   "cell_type": "markdown",
   "source": [
    "R: RR, com 18772 escolas"
   ],
   "metadata": {
    "collapsed": false
   }
  },
  {
   "cell_type": "markdown",
   "source": [
    "Resolution question 2 - b)"
   ],
   "metadata": {
    "collapsed": false
   }
  },
  {
   "cell_type": "code",
   "execution_count": 5,
   "outputs": [
    {
     "data": {
      "text/plain": "   school_state  qtt_students\n0            RO      19772326\n1            RR      19721405\n2            SP      19720216\n3            MG      19688132\n4            MT      19639862\n5            DF      19610657\n6            AL      19580230\n7            AP      19554884\n8            BA      19548986\n9            PI      19532306\n10           AM      19518113\n11           MS      19471350\n12           RJ      19465055\n13           PR      19461679\n14           RS      19453616\n15           CE      19442823\n16           SE      19439804\n17           GO      19420795\n18           PB      19391349\n19           SC      19383100\n20           MA      19347955\n21           RN      19343487\n22           PA      19335222\n23           PE      19289850\n24           TO      19251462\n25           ES      19199869\n26           AC      19027049",
      "text/html": "<div>\n<style scoped>\n    .dataframe tbody tr th:only-of-type {\n        vertical-align: middle;\n    }\n\n    .dataframe tbody tr th {\n        vertical-align: top;\n    }\n\n    .dataframe thead th {\n        text-align: right;\n    }\n</style>\n<table border=\"1\" class=\"dataframe\">\n  <thead>\n    <tr style=\"text-align: right;\">\n      <th></th>\n      <th>school_state</th>\n      <th>qtt_students</th>\n    </tr>\n  </thead>\n  <tbody>\n    <tr>\n      <th>0</th>\n      <td>RO</td>\n      <td>19772326</td>\n    </tr>\n    <tr>\n      <th>1</th>\n      <td>RR</td>\n      <td>19721405</td>\n    </tr>\n    <tr>\n      <th>2</th>\n      <td>SP</td>\n      <td>19720216</td>\n    </tr>\n    <tr>\n      <th>3</th>\n      <td>MG</td>\n      <td>19688132</td>\n    </tr>\n    <tr>\n      <th>4</th>\n      <td>MT</td>\n      <td>19639862</td>\n    </tr>\n    <tr>\n      <th>5</th>\n      <td>DF</td>\n      <td>19610657</td>\n    </tr>\n    <tr>\n      <th>6</th>\n      <td>AL</td>\n      <td>19580230</td>\n    </tr>\n    <tr>\n      <th>7</th>\n      <td>AP</td>\n      <td>19554884</td>\n    </tr>\n    <tr>\n      <th>8</th>\n      <td>BA</td>\n      <td>19548986</td>\n    </tr>\n    <tr>\n      <th>9</th>\n      <td>PI</td>\n      <td>19532306</td>\n    </tr>\n    <tr>\n      <th>10</th>\n      <td>AM</td>\n      <td>19518113</td>\n    </tr>\n    <tr>\n      <th>11</th>\n      <td>MS</td>\n      <td>19471350</td>\n    </tr>\n    <tr>\n      <th>12</th>\n      <td>RJ</td>\n      <td>19465055</td>\n    </tr>\n    <tr>\n      <th>13</th>\n      <td>PR</td>\n      <td>19461679</td>\n    </tr>\n    <tr>\n      <th>14</th>\n      <td>RS</td>\n      <td>19453616</td>\n    </tr>\n    <tr>\n      <th>15</th>\n      <td>CE</td>\n      <td>19442823</td>\n    </tr>\n    <tr>\n      <th>16</th>\n      <td>SE</td>\n      <td>19439804</td>\n    </tr>\n    <tr>\n      <th>17</th>\n      <td>GO</td>\n      <td>19420795</td>\n    </tr>\n    <tr>\n      <th>18</th>\n      <td>PB</td>\n      <td>19391349</td>\n    </tr>\n    <tr>\n      <th>19</th>\n      <td>SC</td>\n      <td>19383100</td>\n    </tr>\n    <tr>\n      <th>20</th>\n      <td>MA</td>\n      <td>19347955</td>\n    </tr>\n    <tr>\n      <th>21</th>\n      <td>RN</td>\n      <td>19343487</td>\n    </tr>\n    <tr>\n      <th>22</th>\n      <td>PA</td>\n      <td>19335222</td>\n    </tr>\n    <tr>\n      <th>23</th>\n      <td>PE</td>\n      <td>19289850</td>\n    </tr>\n    <tr>\n      <th>24</th>\n      <td>TO</td>\n      <td>19251462</td>\n    </tr>\n    <tr>\n      <th>25</th>\n      <td>ES</td>\n      <td>19199869</td>\n    </tr>\n    <tr>\n      <th>26</th>\n      <td>AC</td>\n      <td>19027049</td>\n    </tr>\n  </tbody>\n</table>\n</div>"
     },
     "execution_count": 5,
     "metadata": {},
     "output_type": "execute_result"
    }
   ],
   "source": [
    "question2b = pd.read_sql('SELECT school_state, sum(school_students) AS qtt_students '\n",
    "                         'FROM database '\n",
    "                         'GROUP BY 1 '\n",
    "                         'ORDER BY 2 DESC',\n",
    "                         conn)\n",
    "question2b"
   ],
   "metadata": {
    "collapsed": false
   }
  },
  {
   "cell_type": "markdown",
   "source": [
    "R: RO, com 19.772.326 alunos"
   ],
   "metadata": {
    "collapsed": false
   }
  },
  {
   "cell_type": "markdown",
   "source": [
    "Resolution question 2 - c)"
   ],
   "metadata": {
    "collapsed": false
   }
  },
  {
   "cell_type": "code",
   "execution_count": 6,
   "outputs": [
    {
     "data": {
      "text/plain": "  school_state  tuition_mean\n0           BA   2604.833692",
      "text/html": "<div>\n<style scoped>\n    .dataframe tbody tr th:only-of-type {\n        vertical-align: middle;\n    }\n\n    .dataframe tbody tr th {\n        vertical-align: top;\n    }\n\n    .dataframe thead th {\n        text-align: right;\n    }\n</style>\n<table border=\"1\" class=\"dataframe\">\n  <thead>\n    <tr style=\"text-align: right;\">\n      <th></th>\n      <th>school_state</th>\n      <th>tuition_mean</th>\n    </tr>\n  </thead>\n  <tbody>\n    <tr>\n      <th>0</th>\n      <td>BA</td>\n      <td>2604.833692</td>\n    </tr>\n  </tbody>\n</table>\n</div>"
     },
     "execution_count": 6,
     "metadata": {},
     "output_type": "execute_result"
    }
   ],
   "source": [
    "question2c = pd.read_sql(\"SELECT school_state, AVG(tuition_value) as tuition_mean FROM database WHERE school_state LIKE '%BA%' GROUP BY 1\", conn)\n",
    "question2c"
   ],
   "metadata": {
    "collapsed": false
   }
  },
  {
   "cell_type": "markdown",
   "source": [
    "R: BA, média de 2604.83 de mensalidade."
   ],
   "metadata": {
    "collapsed": false
   }
  },
  {
   "cell_type": "markdown",
   "source": [
    "Resolution question 2 - d)"
   ],
   "metadata": {
    "collapsed": false
   }
  },
  {
   "cell_type": "code",
   "execution_count": 9,
   "outputs": [
    {
     "data": {
      "text/plain": "         school_id  school_students  tuition_mean\n0           429227              139        4566.0\n1           678733              339        1043.0\n2           702844              123        3166.0\n3          1023719              305        2016.0\n4          1044269              286        4851.0\n...            ...              ...           ...\n78862  19999064628              265        4638.0\n78863  19999285107              191         417.0\n78864  19999553373              118        2001.0\n78865  19999758391              139        2974.0\n78866  19999861769              331        2140.0\n\n[78867 rows x 3 columns]",
      "text/html": "<div>\n<style scoped>\n    .dataframe tbody tr th:only-of-type {\n        vertical-align: middle;\n    }\n\n    .dataframe tbody tr th {\n        vertical-align: top;\n    }\n\n    .dataframe thead th {\n        text-align: right;\n    }\n</style>\n<table border=\"1\" class=\"dataframe\">\n  <thead>\n    <tr style=\"text-align: right;\">\n      <th></th>\n      <th>school_id</th>\n      <th>school_students</th>\n      <th>tuition_mean</th>\n    </tr>\n  </thead>\n  <tbody>\n    <tr>\n      <th>0</th>\n      <td>429227</td>\n      <td>139</td>\n      <td>4566.0</td>\n    </tr>\n    <tr>\n      <th>1</th>\n      <td>678733</td>\n      <td>339</td>\n      <td>1043.0</td>\n    </tr>\n    <tr>\n      <th>2</th>\n      <td>702844</td>\n      <td>123</td>\n      <td>3166.0</td>\n    </tr>\n    <tr>\n      <th>3</th>\n      <td>1023719</td>\n      <td>305</td>\n      <td>2016.0</td>\n    </tr>\n    <tr>\n      <th>4</th>\n      <td>1044269</td>\n      <td>286</td>\n      <td>4851.0</td>\n    </tr>\n    <tr>\n      <th>...</th>\n      <td>...</td>\n      <td>...</td>\n      <td>...</td>\n    </tr>\n    <tr>\n      <th>78862</th>\n      <td>19999064628</td>\n      <td>265</td>\n      <td>4638.0</td>\n    </tr>\n    <tr>\n      <th>78863</th>\n      <td>19999285107</td>\n      <td>191</td>\n      <td>417.0</td>\n    </tr>\n    <tr>\n      <th>78864</th>\n      <td>19999553373</td>\n      <td>118</td>\n      <td>2001.0</td>\n    </tr>\n    <tr>\n      <th>78865</th>\n      <td>19999758391</td>\n      <td>139</td>\n      <td>2974.0</td>\n    </tr>\n    <tr>\n      <th>78866</th>\n      <td>19999861769</td>\n      <td>331</td>\n      <td>2140.0</td>\n    </tr>\n  </tbody>\n</table>\n<p>78867 rows × 3 columns</p>\n</div>"
     },
     "execution_count": 9,
     "metadata": {},
     "output_type": "execute_result"
    }
   ],
   "source": [
    "question2d = pd.read_sql(\"SELECT school_id, school_students, AVG(tuition_value) as tuition_mean FROM database WHERE (school_students >= 100 and school_students <= 400) GROUP BY school_id\", conn)\n",
    "question2d # Mensalidade media de cada escola"
   ],
   "metadata": {
    "collapsed": false
   }
  },
  {
   "cell_type": "code",
   "execution_count": 10,
   "outputs": [
    {
     "data": {
      "text/plain": "2603.991834354039"
     },
     "execution_count": 10,
     "metadata": {},
     "output_type": "execute_result"
    }
   ],
   "source": [
    "question2d['tuition_mean'].mean() # Mensalidade media de todas as escolas com a quantidade de alunos de 100 a 400."
   ],
   "metadata": {
    "collapsed": false
   }
  },
  {
   "cell_type": "markdown",
   "source": [
    "R: A média das escolas que possuem entre 100 e 400 alunos é de 2603.99"
   ],
   "metadata": {
    "collapsed": false
   }
  },
  {
   "cell_type": "markdown",
   "source": [],
   "metadata": {
    "collapsed": false
   }
  }
 ],
 "metadata": {
  "kernelspec": {
   "display_name": "Python 3",
   "language": "python",
   "name": "python3"
  },
  "language_info": {
   "codemirror_mode": {
    "name": "ipython",
    "version": 2
   },
   "file_extension": ".py",
   "mimetype": "text/x-python",
   "name": "python",
   "nbconvert_exporter": "python",
   "pygments_lexer": "ipython2",
   "version": "2.7.6"
  }
 },
 "nbformat": 4,
 "nbformat_minor": 0
}
